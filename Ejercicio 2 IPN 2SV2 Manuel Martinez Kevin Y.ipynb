{
  "nbformat": 4,
  "nbformat_minor": 0,
  "metadata": {
    "colab": {
      "name": "Untitled0.ipynb",
      "provenance": [],
      "collapsed_sections": []
    },
    "kernelspec": {
      "name": "python3",
      "display_name": "Python 3"
    }
  },
  "cells": [
    {
      "cell_type": "code",
      "metadata": {
        "id": "Uu-V_0s3GVDt",
        "outputId": "78881eb0-195c-46d9-9e55-fdfb829a5fe9",
        "colab": {
          "base_uri": "https://localhost:8080/"
        }
      },
      "source": [
        "#Ejercicio 2 \n",
        "oracion = input(\"Ingrese una palabra u oracion :\")\n",
        "r = int(input(\"Ingrese el numero de veces que desea repetir esa oracion :\"))\n",
        "print(\"La Oracion que escribiste se repetira :\",r,\"veces\")\n",
        "cont=0\n",
        "while cont<r:\n",
        "  cont=cont+1\n",
        "  print(cont,\"-.\",oracion)\n",
        " "
      ],
      "execution_count": 34,
      "outputs": [
        {
          "output_type": "stream",
          "text": [
            "Ingrese una palabra u oracion :Hola \n",
            "Ingrese el numero de veces que desea repetir esa oracion :10\n",
            "La Oracion que escribiste se repetira : 10 veces\n",
            "1 -. Hola \n",
            "2 -. Hola \n",
            "3 -. Hola \n",
            "4 -. Hola \n",
            "5 -. Hola \n",
            "6 -. Hola \n",
            "7 -. Hola \n",
            "8 -. Hola \n",
            "9 -. Hola \n",
            "10 -. Hola \n"
          ],
          "name": "stdout"
        }
      ]
    }
  ]
}